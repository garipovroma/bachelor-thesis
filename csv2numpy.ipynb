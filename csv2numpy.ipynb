{
 "cells": [
  {
   "cell_type": "code",
   "execution_count": 1,
   "id": "6ff4e9e1-194b-4f06-98ed-bd9d7de754b9",
   "metadata": {},
   "outputs": [],
   "source": [
    "import numpy as np\n",
    "import pandas as pd\n",
    "import os\n",
    "\n",
    "from matplotlib import pyplot as plt\n",
    "import tqdm"
   ]
  },
  {
   "cell_type": "code",
   "execution_count": 2,
   "id": "5337f9e5-12e1-4e31-b051-da4de85f982b",
   "metadata": {},
   "outputs": [
    {
     "data": {
      "text/plain": [
       "123"
      ]
     },
     "execution_count": 2,
     "metadata": {},
     "output_type": "execute_result"
    }
   ],
   "source": [
    "123"
   ]
  },
  {
   "cell_type": "code",
   "execution_count": null,
   "id": "92787b84-9d42-4cc4-8a6c-512793ae957f",
   "metadata": {},
   "outputs": [],
   "source": []
  },
  {
   "cell_type": "code",
   "execution_count": 3,
   "id": "fffe27ff-a4dc-4422-9268-d6998a1b94f8",
   "metadata": {},
   "outputs": [
    {
     "ename": "NameError",
     "evalue": "name 'a' is not defined",
     "output_type": "error",
     "traceback": [
      "\u001b[0;31m---------------------------------------------------------------------------\u001b[0m",
      "\u001b[0;31mNameError\u001b[0m                                 Traceback (most recent call last)",
      "Cell \u001b[0;32mIn[3], line 1\u001b[0m\n\u001b[0;32m----> 1\u001b[0m \u001b[43ma\u001b[49m\u001b[38;5;241m.\u001b[39mshape\n",
      "\u001b[0;31mNameError\u001b[0m: name 'a' is not defined"
     ]
    }
   ],
   "source": [
    "a.shape"
   ]
  },
  {
   "cell_type": "code",
   "execution_count": 4,
   "id": "ccc456dc-73f5-4182-b195-d1eb1b39a6ef",
   "metadata": {},
   "outputs": [
    {
     "ename": "NameError",
     "evalue": "name 'b' is not defined",
     "output_type": "error",
     "traceback": [
      "\u001b[0;31m---------------------------------------------------------------------------\u001b[0m",
      "\u001b[0;31mNameError\u001b[0m                                 Traceback (most recent call last)",
      "Cell \u001b[0;32mIn[4], line 1\u001b[0m\n\u001b[0;32m----> 1\u001b[0m \u001b[43mb\u001b[49m\u001b[38;5;241m.\u001b[39mshape\n",
      "\u001b[0;31mNameError\u001b[0m: name 'b' is not defined"
     ]
    }
   ],
   "source": [
    "b.shape"
   ]
  },
  {
   "cell_type": "code",
   "execution_count": 5,
   "id": "44282e74-9773-46b5-8484-cadbe36b3dff",
   "metadata": {},
   "outputs": [
    {
     "ename": "NameError",
     "evalue": "name 'a' is not defined",
     "output_type": "error",
     "traceback": [
      "\u001b[0;31m---------------------------------------------------------------------------\u001b[0m",
      "\u001b[0;31mNameError\u001b[0m                                 Traceback (most recent call last)",
      "Cell \u001b[0;32mIn[5], line 1\u001b[0m\n\u001b[0;32m----> 1\u001b[0m \u001b[43ma\u001b[49m\u001b[38;5;241m.\u001b[39mshape, b\u001b[38;5;241m.\u001b[39mshape\n",
      "\u001b[0;31mNameError\u001b[0m: name 'a' is not defined"
     ]
    }
   ],
   "source": [
    "a.shape, b.shape"
   ]
  },
  {
   "cell_type": "code",
   "execution_count": 42,
   "id": "33aaf1eb-0c9e-420d-b01c-8bd218c2a42c",
   "metadata": {},
   "outputs": [
    {
     "data": {
      "text/plain": [
       "(2, 63, 16)"
      ]
     },
     "execution_count": 42,
     "metadata": {},
     "output_type": "execute_result"
    }
   ],
   "source": [
    "np.array([a, b]).shape"
   ]
  },
  {
   "cell_type": "code",
   "execution_count": 16,
   "id": "8ec1c5b2-e614-4b17-92b1-cba996c06178",
   "metadata": {},
   "outputs": [],
   "source": [
    "def read_zero_one_csv(path):\n",
    "    zero_path = os.path.join(path, 'zero.csv')\n",
    "    one_path = os.path.join(path, 'one.csv')\n",
    "    \n",
    "    zero_df = pd.read_csv(zero_path, header=None)\n",
    "    one_df = pd.read_csv(one_path, header=None)\n",
    "    \n",
    "    zero_np = zero_df.to_numpy()\n",
    "    one_np = one_df.to_numpy()\n",
    "    \n",
    "    a, b, np_arr = zero_np, one_np, np.array([zero_np, one_np])\n",
    "    \n",
    "    return a, b, np_arr"
   ]
  },
  {
   "cell_type": "code",
   "execution_count": 17,
   "id": "aa714d30-954c-41fc-8c12-83aeee240604",
   "metadata": {},
   "outputs": [],
   "source": [
    "x = !ls $DATA_FOLDER_PATH"
   ]
  },
  {
   "cell_type": "code",
   "execution_count": 18,
   "id": "80dcd3e5-6423-4aad-8b13-4100243eecbc",
   "metadata": {},
   "outputs": [
    {
     "data": {
      "text/plain": [
       "'\\x1b[1m\\x1b[36m1000_0_1\\x1b[m\\x1b[m'"
      ]
     },
     "execution_count": 18,
     "metadata": {},
     "output_type": "execute_result"
    }
   ],
   "source": [
    "x[0]"
   ]
  },
  {
   "cell_type": "code",
   "execution_count": 19,
   "id": "c4ed034a-658a-4644-956e-2bd0685fa914",
   "metadata": {},
   "outputs": [],
   "source": [
    "DATA_FOLDER_PATH = 'MetaLearning-GAN-dataset'\n",
    "FOLDERS = os.listdir(DATA_FOLDER_PATH)\n",
    "if '.DS_Store' in FOLDERS:\n",
    "    FOLDERS.remove('.DS_Store')"
   ]
  },
  {
   "cell_type": "code",
   "execution_count": 22,
   "id": "72512e8c-a4c4-4e5b-aba6-639b5c16bc2e",
   "metadata": {},
   "outputs": [
    {
     "name": "stderr",
     "output_type": "stream",
     "text": [
      "/var/folders/9h/s1rswq6s6c301wnwp21fbgn00000gn/T/ipykernel_12469/1357465339.py:3: TqdmDeprecationWarning: This function will be removed in tqdm==5.0.0\n",
      "Please use `tqdm.notebook.tqdm` instead of `tqdm.tqdm_notebook`\n",
      "  with tqdm.tqdm_notebook(total=len(FOLDERS)) as pbar:\n"
     ]
    },
    {
     "data": {
      "application/vnd.jupyter.widget-view+json": {
       "model_id": "7d6edb4491b64ab59dfce44d3cbbfdb4",
       "version_major": 2,
       "version_minor": 0
      },
      "text/plain": [
       "  0%|          | 0/9911 [00:00<?, ?it/s]"
      ]
     },
     "metadata": {},
     "output_type": "display_data"
    }
   ],
   "source": [
    "data = []\n",
    "\n",
    "with tqdm.tqdm_notebook(total=len(FOLDERS)) as pbar:\n",
    "\n",
    "    for folder in FOLDERS:\n",
    "        full_path = os.path.join(DATA_FOLDER_PATH, folder)\n",
    "\n",
    "        a, b, np_arr = read_zero_one_csv(full_path)\n",
    "        \n",
    "        data.append((np_arr, folder))\n",
    "        pbar.update(1)\n"
   ]
  },
  {
   "cell_type": "code",
   "execution_count": 23,
   "id": "945d7db4-1b6c-4efc-a785-8af945d194f7",
   "metadata": {},
   "outputs": [
    {
     "data": {
      "text/plain": [
       "(2, 64, 16)"
      ]
     },
     "execution_count": 23,
     "metadata": {},
     "output_type": "execute_result"
    }
   ],
   "source": [
    "data[0][0].shape"
   ]
  },
  {
   "cell_type": "code",
   "execution_count": 24,
   "id": "ec460a59-d539-43d7-9bed-c4f9423e7d3f",
   "metadata": {},
   "outputs": [
    {
     "data": {
      "text/plain": [
       "'1398_0_3'"
      ]
     },
     "execution_count": 24,
     "metadata": {},
     "output_type": "execute_result"
    }
   ],
   "source": [
    "data[0][1]"
   ]
  },
  {
   "cell_type": "code",
   "execution_count": null,
   "id": "45be6901-478e-4d28-9b12-356e6a03bc50",
   "metadata": {},
   "outputs": [],
   "source": []
  },
  {
   "cell_type": "code",
   "execution_count": 26,
   "id": "a1c55f44-5707-4e55-a631-2dfd4fd13c42",
   "metadata": {},
   "outputs": [
    {
     "name": "stdout",
     "output_type": "stream",
     "text": [
      "mkdir: MetaLearning-GAN-ready-to-use-dataset: File exists\n"
     ]
    }
   ],
   "source": [
    "OUT_FOLDER_PATH = \"MetaLearning-GAN-ready-to-use-dataset\"\n",
    "\n",
    "!mkdir $OUT_FOLDER_PATH"
   ]
  },
  {
   "cell_type": "code",
   "execution_count": 27,
   "id": "7602d664-43ba-472a-9d1b-9796d12a97a6",
   "metadata": {},
   "outputs": [
    {
     "name": "stderr",
     "output_type": "stream",
     "text": [
      "/var/folders/9h/s1rswq6s6c301wnwp21fbgn00000gn/T/ipykernel_12469/1643908331.py:1: TqdmDeprecationWarning: This function will be removed in tqdm==5.0.0\n",
      "Please use `tqdm.notebook.tqdm` instead of `tqdm.tqdm_notebook`\n",
      "  with tqdm.tqdm_notebook(total=len(FOLDERS)) as pbar:\n"
     ]
    },
    {
     "data": {
      "application/vnd.jupyter.widget-view+json": {
       "model_id": "18a6218af86640fcb2538a7a49d43a30",
       "version_major": 2,
       "version_minor": 0
      },
      "text/plain": [
       "  0%|          | 0/9911 [00:00<?, ?it/s]"
      ]
     },
     "metadata": {},
     "output_type": "display_data"
    }
   ],
   "source": [
    "with tqdm.tqdm_notebook(total=len(FOLDERS)) as pbar:\n",
    "    for np_data, folder in data:\n",
    "        out_path = os.path.join(OUT_FOLDER_PATH, folder)\n",
    "        np.save(out_path, np_data)\n",
    "        \n",
    "        pbar.update(1)"
   ]
  },
  {
   "cell_type": "code",
   "execution_count": null,
   "id": "a36e840e-abfa-4aff-aa4f-651117cfd719",
   "metadata": {},
   "outputs": [],
   "source": []
  },
  {
   "cell_type": "code",
   "execution_count": null,
   "id": "868ab530-dbcb-4570-b08c-c8669c13539c",
   "metadata": {},
   "outputs": [],
   "source": []
  }
 ],
 "metadata": {
  "kernelspec": {
   "display_name": "Python 3 (ipykernel)",
   "language": "python",
   "name": "python3"
  },
  "language_info": {
   "codemirror_mode": {
    "name": "ipython",
    "version": 3
   },
   "file_extension": ".py",
   "mimetype": "text/x-python",
   "name": "python",
   "nbconvert_exporter": "python",
   "pygments_lexer": "ipython3",
   "version": "3.8.15"
  }
 },
 "nbformat": 4,
 "nbformat_minor": 5
}
